{
 "cells": [
  {
   "cell_type": "code",
   "execution_count": 1,
   "id": "6215e968",
   "metadata": {},
   "outputs": [],
   "source": [
    "import d2lzh as d2l\n",
    "from mxnet import gluon, init, nd\n",
    "from mxnet.gluon import nn\n",
    "def nin_block(num_channels, kernel_size, strides, padding):\n",
    "    blk = nn.Sequential()\n",
    "    blk.add(nn.Conv2D(num_channels, kernel_size, strides, padding, activation='relu'),\n",
    "            nn.Conv2D(num_channels, kernel_size=1, activation='relu'), \n",
    "            nn.Conv2D(num_channels, kernel_size=1, activation='relu'))\n",
    "    return blk"
   ]
  },
  {
   "cell_type": "code",
   "execution_count": 6,
   "id": "61428e1e",
   "metadata": {},
   "outputs": [],
   "source": [
    "net = nn.Sequential()\n",
    "net.add(nin_block(96, kernel_size=11, strides=4, padding=0),\n",
    "        nn.MaxPool2D(pool_size=3, strides=2),\n",
    "        nin_block(256, kernel_size=5, strides=1, padding=2),\n",
    "        nn.MaxPool2D(pool_size=3, strides=2),\n",
    "        nin_block(384, kernel_size=3, strides=1, padding=1),\n",
    "        nn.MaxPool2D(pool_size=3, strides=2), nn.Dropout(0.5),\n",
    "        nin_block(10, kernel_size=3, strides=1, padding=1),\n",
    "        nn.GlobalAvgPool2D(),\n",
    "        nn.Flatten())\n"
   ]
  },
  {
   "cell_type": "code",
   "execution_count": 7,
   "id": "eba6fd2b",
   "metadata": {},
   "outputs": [
    {
     "name": "stdout",
     "output_type": "stream",
     "text": [
      "sequential11 output shape:\t (1, 96, 54, 54)\n",
      "pool8 output shape:\t (1, 96, 26, 26)\n",
      "sequential12 output shape:\t (1, 256, 26, 26)\n",
      "pool9 output shape:\t (1, 256, 12, 12)\n",
      "sequential13 output shape:\t (1, 384, 12, 12)\n",
      "pool10 output shape:\t (1, 384, 5, 5)\n",
      "dropout2 output shape:\t (1, 384, 5, 5)\n",
      "sequential14 output shape:\t (1, 10, 5, 5)\n",
      "pool11 output shape:\t (1, 10, 1, 1)\n",
      "flatten2 output shape:\t (1, 10)\n"
     ]
    }
   ],
   "source": [
    "X = nd.random.uniform(shape=(1, 1, 224, 224))\n",
    "net.initialize()\n",
    "for layer in net:\n",
    "    X = layer(X)\n",
    "    print(layer.name, 'output shape:\\t', X.shape)"
   ]
  },
  {
   "cell_type": "code",
   "execution_count": 8,
   "id": "b26c41f0",
   "metadata": {},
   "outputs": [
    {
     "name": "stdout",
     "output_type": "stream",
     "text": [
      "training on gpu(0)\n",
      "epoch 1, loss 2.0426, train acc 0.257, test acc 0.484, time 135.5 sec\n",
      "epoch 2, loss 1.0548, train acc 0.604, test acc 0.676, time 133.8 sec\n",
      "epoch 3, loss 0.6918, train acc 0.736, test acc 0.772, time 137.5 sec\n",
      "epoch 4, loss 0.6167, train acc 0.767, test acc 0.808, time 130.9 sec\n",
      "epoch 5, loss 0.5013, train acc 0.813, test acc 0.844, time 131.8 sec\n"
     ]
    }
   ],
   "source": [
    "lr, num_epochs, batch_size, ctx = 0.1, 5, 128, d2l.try_gpu()\n",
    "net.initialize(force_reinit=True, ctx=ctx, init=init.Xavier())\n",
    "trainer = gluon.Trainer(net.collect_params(), 'sgd', {'learning_rate': lr})\n",
    "train_iter, test_iter = d2l.load_data_fashion_mnist(batch_size, resize=224)\n",
    "d2l.train_ch5(net, train_iter, test_iter, batch_size, trainer, ctx, num_epochs)"
   ]
  },
  {
   "cell_type": "code",
   "execution_count": null,
   "id": "f58cba62",
   "metadata": {},
   "outputs": [],
   "source": []
  }
 ],
 "metadata": {
  "kernelspec": {
   "display_name": "Python 3",
   "language": "python",
   "name": "python3"
  },
  "language_info": {
   "codemirror_mode": {
    "name": "ipython",
    "version": 3
   },
   "file_extension": ".py",
   "mimetype": "text/x-python",
   "name": "python",
   "nbconvert_exporter": "python",
   "pygments_lexer": "ipython3",
   "version": "3.6.13"
  }
 },
 "nbformat": 4,
 "nbformat_minor": 5
}
