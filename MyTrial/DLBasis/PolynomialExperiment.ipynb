{
 "cells": [
  {
   "cell_type": "code",
   "execution_count": 1,
   "id": "64ac32e4",
   "metadata": {},
   "outputs": [],
   "source": [
    "%matplotlib inline\n",
    "import d2lzh as d2l\n",
    "from mxnet import autograd, gluon, nd\n",
    "from mxnet.gluon import data as gdata, loss as gloss, nn"
   ]
  },
  {
   "cell_type": "markdown",
   "id": "9897ec1f",
   "metadata": {},
   "source": [
    "$y=1.2x-3.4x^2+5.6x^3+5+\\epsilon$"
   ]
  },
  {
   "cell_type": "code",
   "execution_count": 4,
   "id": "c7b9f3b5",
   "metadata": {},
   "outputs": [],
   "source": [
    "n_train, n_test, true_w, true_b = 100, 100, [1.2, -3.4, 5.6], 5\n",
    "features = nd.random.normal(shape=(n_train + n_test, 1))\n",
    "poly_features = nd.concat(features, nd.power(features, 2), nd.power(features, 3))\n",
    "labels = (true_w[0] * poly_features[:, 0] + true_w[1] * poly_features[:, 1] + true_w[2] * poly_features[:, 2] + true_b)\n",
    "labels += nd.random.normal(scale=0.1, shape=labels.shape)"
   ]
  },
  {
   "cell_type": "code",
   "execution_count": 5,
   "id": "b0b65ea8",
   "metadata": {},
   "outputs": [
    {
     "data": {
      "text/plain": [
       "(\n",
       " [[-0.72485566]\n",
       "  [ 1.1119636 ]]\n",
       " <NDArray 2x1 @cpu(0)>,\n",
       " \n",
       " [[-0.72485566  0.5254157  -0.38085055]\n",
       "  [ 1.1119636   1.2364631   1.374902  ]]\n",
       " <NDArray 2x3 @cpu(0)>,\n",
       " \n",
       " [0.17248753 9.731051  ]\n",
       " <NDArray 2 @cpu(0)>)"
      ]
     },
     "execution_count": 5,
     "metadata": {},
     "output_type": "execute_result"
    }
   ],
   "source": [
    "features[:2], poly_features[:2], labels[:2]"
   ]
  },
  {
   "cell_type": "code",
   "execution_count": null,
   "id": "fc62326a",
   "metadata": {},
   "outputs": [],
   "source": []
  }
 ],
 "metadata": {
  "kernelspec": {
   "display_name": "Python 3",
   "language": "python",
   "name": "python3"
  },
  "language_info": {
   "codemirror_mode": {
    "name": "ipython",
    "version": 3
   },
   "file_extension": ".py",
   "mimetype": "text/x-python",
   "name": "python",
   "nbconvert_exporter": "python",
   "pygments_lexer": "ipython3",
   "version": "3.6.13"
  }
 },
 "nbformat": 4,
 "nbformat_minor": 5
}
