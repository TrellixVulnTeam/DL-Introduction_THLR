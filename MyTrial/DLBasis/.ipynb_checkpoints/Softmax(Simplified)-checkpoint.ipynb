{
 "cells": [
  {
   "cell_type": "code",
   "execution_count": 1,
   "id": "84eb5d31",
   "metadata": {},
   "outputs": [],
   "source": [
    "%matplotlib inline\n",
    "import d2lzh as d2l\n",
    "from mxnet import gluon, init\n",
    "from mxnet.gluon import loss as gloss, nn"
   ]
  },
  {
   "cell_type": "code",
   "execution_count": 2,
   "id": "f9637fd0",
   "metadata": {},
   "outputs": [],
   "source": [
    "batch_size = 256\n",
    "train_iter, test_iter = d2l.load_data_fashion_mnist(batch_size)"
   ]
  },
  {
   "cell_type": "code",
   "execution_count": 3,
   "id": "61002c27",
   "metadata": {},
   "outputs": [],
   "source": [
    "net = nn.Sequential()\n",
    "net.add(nn.Dense(10))\n",
    "net.initialize(init.Normal(sigma=0.01))"
   ]
  },
  {
   "cell_type": "code",
   "execution_count": 8,
   "id": "139a092f",
   "metadata": {},
   "outputs": [],
   "source": [
    "loss = gloss.SoftmaxCrossEntropyLoss()\n",
    "trainer = gluon.Trainer(net.collect_params(),'sgd', {'learning_rate': 0.1})"
   ]
  },
  {
   "cell_type": "code",
   "execution_count": 9,
   "id": "e84766ae",
   "metadata": {},
   "outputs": [
    {
     "name": "stdout",
     "output_type": "stream",
     "text": [
      "epoch 1, loss 0.6677, train acc 0.855, test acc 0.854\n",
      "epoch 2, loss 0.6195, train acc 0.855, test acc 0.852\n",
      "epoch 3, loss 0.5902, train acc 0.856, test acc 0.849\n",
      "epoch 4, loss 0.5665, train acc 0.856, test acc 0.851\n",
      "epoch 5, loss 0.5474, train acc 0.856, test acc 0.849\n",
      "epoch 6, loss 0.5301, train acc 0.857, test acc 0.851\n",
      "epoch 7, loss 0.5143, train acc 0.858, test acc 0.851\n",
      "epoch 8, loss 0.5001, train acc 0.858, test acc 0.852\n",
      "epoch 9, loss 0.4881, train acc 0.859, test acc 0.849\n",
      "epoch 10, loss 0.4770, train acc 0.859, test acc 0.852\n"
     ]
    }
   ],
   "source": [
    "num_epochs = 10\n",
    "d2l.train_ch3(net, train_iter, test_iter, loss, num_epochs, batch_size, None, None, trainer)"
   ]
  },
  {
   "cell_type": "code",
   "execution_count": null,
   "id": "78794f58",
   "metadata": {},
   "outputs": [],
   "source": []
  }
 ],
 "metadata": {
  "kernelspec": {
   "display_name": "Python 3",
   "language": "python",
   "name": "python3"
  },
  "language_info": {
   "codemirror_mode": {
    "name": "ipython",
    "version": 3
   },
   "file_extension": ".py",
   "mimetype": "text/x-python",
   "name": "python",
   "nbconvert_exporter": "python",
   "pygments_lexer": "ipython3",
   "version": "3.6.13"
  }
 },
 "nbformat": 4,
 "nbformat_minor": 5
}
